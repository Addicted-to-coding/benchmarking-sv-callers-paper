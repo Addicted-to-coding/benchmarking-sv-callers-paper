{
 "cells": [
  {
   "cell_type": "code",
   "execution_count": 8,
   "metadata": {},
   "outputs": [],
   "source": [
    "import pandas as pd\n",
    "import allel\n",
    "import numpy as np\n",
    "import matplotlib.pyplot as plt\n",
    "import seaborn as sns"
   ]
  },
  {
   "cell_type": "code",
   "execution_count": 9,
   "metadata": {},
   "outputs": [],
   "source": [
    "strain=['AKR_J','A_J','C3H_HeJ','CBA_J','DBA_2J','LP_J']\n",
    "tools=['breakdancer',\n",
    "#'clever',\n",
    "'delly',\n",
    "'gasv',\n",
    "'gridss',\n",
    "#'indelminer',\n",
    "'lumpexpress',\n",
    "#'mistrvar',\n",
    "#'pindel',\n",
    "#'platypus',\n",
    "'popdel',\n",
    "'smoove',\n",
    "'sniffles']"
   ]
  },
  {
   "cell_type": "markdown",
   "metadata": {},
   "source": [
    "# Deletions"
   ]
  },
  {
   "cell_type": "code",
   "execution_count": 10,
   "metadata": {},
   "outputs": [],
   "source": [
    "import os\n",
    "from os import path\n",
    "\n",
    "cov_list=['32','8','4','2','1','0.5','0.1']\n",
    "\n",
    "#cov_list=['32','16','8','4','2','1','0.5','0.1']\n",
    "th_list=['0','10','100','1000','10000']\n",
    "#n_list=['1','2','3','4','5','6','7','8','9','10']\n",
    "\n",
    "\n",
    "n_list=['1','2']\n",
    "\n",
    "\n",
    "df= pd.DataFrame(columns=['strain','length','flag','position','threshold'])\n"
   ]
  },
  {
   "cell_type": "code",
   "execution_count": null,
   "metadata": {},
   "outputs": [],
   "source": [
    "for s in strain:\n",
    "    print (\"---\",s,\"---\")\n",
    "    for t in tools:\n",
    "        for th in th_list: \n",
    "            for cov in cov_list:\n",
    "                for n in n_list:\n",
    "            \n",
    "            \n",
    "                    file='../raw_data/mouse/custom_vcf_'+cov+'x/'+str(th)+'t/nf_'+str(th)+'t.'+t+'.'+s+'.chr19.'+cov+'p.'+n+'_sorted.modified.vcf'\n",
    "            \n",
    "                    if path.exists(file):\n",
    "                        callset = allel.read_vcf(file,fields='*')\n",
    "                        if callset!=None:\n",
    "                            df_current = pd.DataFrame({'tool': t, 'strain': s, 'length': callset['variants/SVLEN'],'flag': callset['variants/FLAG'],'position': callset['variants/POS'],'threshold': th})\n",
    "                            df_current['cov']=cov\n",
    "                            df_current['n']=n\n",
    "                            df = pd.concat([df_current, df],ignore_index=True)   \n",
    "                    else:\n",
    "                        print (file)"
   ]
  },
  {
   "cell_type": "code",
   "execution_count": null,
   "metadata": {},
   "outputs": [],
   "source": [
    "df.tail()"
   ]
  },
  {
   "cell_type": "markdown",
   "metadata": {},
   "source": [
    "# Non-deletions"
   ]
  },
  {
   "cell_type": "code",
   "execution_count": null,
   "metadata": {},
   "outputs": [],
   "source": [
    "import os\n",
    "from os import path\n",
    "\n",
    "cov_list=['32','8','4','2','1','0.5','0.1']\n",
    "\n",
    "#cov_list=['32','16','8','4','2','1','0.5','0.1']\n",
    "th_list=['0','10','100','1000','10000']\n",
    "#n_list=['1','2','3','4','5','6','7','8','9','10']\n",
    "\n",
    "\n",
    "n_list=['1','2']\n",
    "\n",
    "\n",
    "df_nondel= pd.DataFrame(columns=['strain','length','flag','position','threshold'])\n"
   ]
  },
  {
   "cell_type": "code",
   "execution_count": null,
   "metadata": {},
   "outputs": [],
   "source": [
    "for s in strain:\n",
    "    print (\"---\",s,\"---\")\n",
    "    for t in tools:\n",
    "        for th in th_list: \n",
    "            for cov in cov_list:\n",
    "                for n in n_list:\n",
    "            \n",
    "            \n",
    "                    file='../raw_data/mouse/custom_vcf_'+cov+'x/'+str(th)+'t/nf_'+str(th)+'t.'+t+'.'+s+'.chr19.'+cov+'p.'+n+'_sorted.modified.nondel.vcf'\n",
    "            \n",
    "                    if path.exists(file):\n",
    "                        callset = allel.read_vcf(file,fields='*')\n",
    "                        if callset!=None:\n",
    "                            df_current = pd.DataFrame({'tool': t, 'strain': s, 'length': callset['variants/SVLEN'],'flag': callset['variants/FLAG'],'position': callset['variants/POS'],'threshold': th})\n",
    "                            df_current['cov']=cov\n",
    "                            df_current['n']=n\n",
    "                            df_nondel = pd.concat([df_current, df_nondel],ignore_index=True)   \n",
    "                    else:\n",
    "                        print (file)"
   ]
  },
  {
   "cell_type": "code",
   "execution_count": null,
   "metadata": {},
   "outputs": [],
   "source": [
    "df_nondel.head()"
   ]
  }
 ],
 "metadata": {
  "kernelspec": {
   "display_name": "Python 3",
   "language": "python",
   "name": "python3"
  },
  "language_info": {
   "codemirror_mode": {
    "name": "ipython",
    "version": 3
   },
   "file_extension": ".py",
   "mimetype": "text/x-python",
   "name": "python",
   "nbconvert_exporter": "python",
   "pygments_lexer": "ipython3",
   "version": "3.7.4"
  }
 },
 "nbformat": 4,
 "nbformat_minor": 2
}
