{
 "cells": [
  {
   "cell_type": "markdown",
   "metadata": {},
   "source": [
    "# Concatenating all tools and strains at threshold 0, 10, 100, 1000, and 10K"
   ]
  },
  {
   "cell_type": "code",
   "execution_count": 25,
   "metadata": {},
   "outputs": [],
   "source": [
    "import os\n",
    "import allel\n",
    "import pandas as pd\n",
    "\n",
    "\n",
    "strain=['A_J','AKR_J','BALB_CJ','CBA_J','C3H_HeJ','DBA_2J','LP_J']\n",
    "\n",
    "tools=['BioGraph*',\n",
    "'breakdancer',\n",
    "'clever',\n",
    "'delly',\n",
    "'gasv',\n",
    "'gridss',\n",
    "'indelminer',\n",
    "'lumpexpress',\n",
    "'mistrvar',\n",
    "'pindel',\n",
    "'platypus',\n",
    "'popdel',\n",
    "'rdxplorer',\n",
    "'smoove',\n",
    "'sniffles']\n"
   ]
  },
  {
   "cell_type": "markdown",
   "metadata": {},
   "source": [
    "## 0 bp Threshold"
   ]
  },
  {
   "cell_type": "code",
   "execution_count": 22,
   "metadata": {},
   "outputs": [
    {
     "name": "stdout",
     "output_type": "stream",
     "text": [
      "Empty File: ../raw_data/mouse/custom_vcf_fulldata/0t/deletions/nf_0t.pindel.BALB_CJ.chr19.100p_sorted.modified.vcf\n",
      "Empty File: ../raw_data/mouse/custom_vcf_fulldata/0t/deletions/nf_0t.platypus.BALB_CJ.chr19.100p_sorted.modified.vcf\n"
     ]
    },
    {
     "data": {
      "text/html": [
       "<div>\n",
       "<style scoped>\n",
       "    .dataframe tbody tr th:only-of-type {\n",
       "        vertical-align: middle;\n",
       "    }\n",
       "\n",
       "    .dataframe tbody tr th {\n",
       "        vertical-align: top;\n",
       "    }\n",
       "\n",
       "    .dataframe thead th {\n",
       "        text-align: right;\n",
       "    }\n",
       "</style>\n",
       "<table border=\"1\" class=\"dataframe\">\n",
       "  <thead>\n",
       "    <tr style=\"text-align: right;\">\n",
       "      <th></th>\n",
       "      <th>tool</th>\n",
       "      <th>strain</th>\n",
       "      <th>length</th>\n",
       "      <th>flag</th>\n",
       "      <th>position</th>\n",
       "      <th>threshold</th>\n",
       "    </tr>\n",
       "  </thead>\n",
       "  <tbody>\n",
       "    <tr>\n",
       "      <td>0</td>\n",
       "      <td>sniffles</td>\n",
       "      <td>LP_J</td>\n",
       "      <td>1725</td>\n",
       "      <td>FP</td>\n",
       "      <td>6055203</td>\n",
       "      <td>0</td>\n",
       "    </tr>\n",
       "    <tr>\n",
       "      <td>1</td>\n",
       "      <td>sniffles</td>\n",
       "      <td>LP_J</td>\n",
       "      <td>78</td>\n",
       "      <td>FP</td>\n",
       "      <td>17072687</td>\n",
       "      <td>0</td>\n",
       "    </tr>\n",
       "    <tr>\n",
       "      <td>2</td>\n",
       "      <td>sniffles</td>\n",
       "      <td>LP_J</td>\n",
       "      <td>34582728</td>\n",
       "      <td>FP</td>\n",
       "      <td>17098523</td>\n",
       "      <td>0</td>\n",
       "    </tr>\n",
       "    <tr>\n",
       "      <td>3</td>\n",
       "      <td>sniffles</td>\n",
       "      <td>LP_J</td>\n",
       "      <td>48</td>\n",
       "      <td>FP</td>\n",
       "      <td>17201451</td>\n",
       "      <td>0</td>\n",
       "    </tr>\n",
       "    <tr>\n",
       "      <td>4</td>\n",
       "      <td>sniffles</td>\n",
       "      <td>LP_J</td>\n",
       "      <td>114</td>\n",
       "      <td>FP</td>\n",
       "      <td>17231867</td>\n",
       "      <td>0</td>\n",
       "    </tr>\n",
       "  </tbody>\n",
       "</table>\n",
       "</div>"
      ],
      "text/plain": [
       "       tool strain    length flag  position threshold\n",
       "0  sniffles   LP_J      1725   FP   6055203         0\n",
       "1  sniffles   LP_J        78   FP  17072687         0\n",
       "2  sniffles   LP_J  34582728   FP  17098523         0\n",
       "3  sniffles   LP_J        48   FP  17201451         0\n",
       "4  sniffles   LP_J       114   FP  17231867         0"
      ]
     },
     "execution_count": 22,
     "metadata": {},
     "output_type": "execute_result"
    }
   ],
   "source": [
    "#0 threshold deletions\n",
    "\n",
    "th=0\n",
    "df_current = pd.DataFrame(columns=['strain','length','flag','position','threshold'])\n",
    "df_0 = pd.DataFrame(columns=['tool','strain','length','flag','position','threshold'])\n",
    "for s in strain:\n",
    "    for t in tools:\n",
    "        file='../raw_data/mouse/custom_vcf_fulldata/'+str(th)+'t/deletions/nf_'+str(th)+'t.'+t+'.'+s+'.chr19.100p_sorted.modified.vcf'\n",
    "        \n",
    "        callset = allel.read_vcf(file,fields='*')\n",
    "        if callset!=None:\n",
    "            df_current = pd.DataFrame({'tool': t, 'strain': s, 'length': callset['variants/SVLEN'],'flag': callset['variants/FLAG'],'position': callset['variants/POS'],'threshold': th})\n",
    "            df_0 = pd.concat([df_current, df_0],ignore_index=True)   \n",
    "        \n",
    "        else:\n",
    "            print(\"Empty File: \" + file)\n",
    "            \n",
    "df_0.head()"
   ]
  },
  {
   "cell_type": "code",
   "execution_count": 23,
   "metadata": {
    "scrolled": false
   },
   "outputs": [
    {
     "data": {
      "text/html": [
       "<div>\n",
       "<style scoped>\n",
       "    .dataframe tbody tr th:only-of-type {\n",
       "        vertical-align: middle;\n",
       "    }\n",
       "\n",
       "    .dataframe tbody tr th {\n",
       "        vertical-align: top;\n",
       "    }\n",
       "\n",
       "    .dataframe thead th {\n",
       "        text-align: right;\n",
       "    }\n",
       "</style>\n",
       "<table border=\"1\" class=\"dataframe\">\n",
       "  <thead>\n",
       "    <tr style=\"text-align: right;\">\n",
       "      <th></th>\n",
       "      <th>tool</th>\n",
       "      <th>strain</th>\n",
       "      <th>length</th>\n",
       "      <th>flag</th>\n",
       "      <th>position</th>\n",
       "      <th>threshold</th>\n",
       "    </tr>\n",
       "  </thead>\n",
       "  <tbody>\n",
       "  </tbody>\n",
       "</table>\n",
       "</div>"
      ],
      "text/plain": [
       "Empty DataFrame\n",
       "Columns: [tool, strain, length, flag, position, threshold]\n",
       "Index: []"
      ]
     },
     "execution_count": 23,
     "metadata": {},
     "output_type": "execute_result"
    }
   ],
   "source": [
    "#0 threshold non-deletions\n",
    "import os\n",
    "\n",
    "th=0\n",
    "df_current = pd.DataFrame(columns=['strain','length','flag','position','threshold'])\n",
    "df_0_nondel = pd.DataFrame(columns=['tool','strain','length','flag','position','threshold'])\n",
    "for s in strain:\n",
    "    for t in tools:\n",
    "        \n",
    "        file='../raw_data/mouse/custom_vcf_fulldata/'+str(th)+'t/non-deletions/nf_'+str(th)+'t.'+t+'.'+s+'.chr19.100p_sorted.modified.nondel.vcf'\n",
    "        \n",
    "        callset = allel.read_vcf(file,fields='*')\n",
    "        if callset!=None:\n",
    "            print (\"----\")\n",
    "            df_current = pd.DataFrame({'tool': t, 'strain': s, 'length': callset['variants/SVLEN'],'flag': callset['variants/FLAG'],'position': callset['variants/POS'],'threshold': th})\n",
    "            df_0_nondel = pd.concat([df_current, df_0_nondel],ignore_index=True)   \n",
    "            \n",
    "        #else:\n",
    "            #print(\"Empty File: \" + file)\n",
    "        \n",
    "df_0_nondel.head()"
   ]
  },
  {
   "cell_type": "markdown",
   "metadata": {},
   "source": [
    "## 10 bp Threshold"
   ]
  },
  {
   "cell_type": "code",
   "execution_count": 24,
   "metadata": {
    "scrolled": true
   },
   "outputs": [
    {
     "ename": "FileNotFoundError",
     "evalue": "[Errno 2] No such file or directory: '../raw_data/mouse/custom_vcf_fulldata/10t/deletions/nf_10t.pindel.BALB_CJ.chr19.100p_sorted.modified.vcf'",
     "output_type": "error",
     "traceback": [
      "\u001b[0;31m---------------------------------------------------------------------------\u001b[0m",
      "\u001b[0;31mFileNotFoundError\u001b[0m                         Traceback (most recent call last)",
      "\u001b[0;32m<ipython-input-24-7844f94fa74c>\u001b[0m in \u001b[0;36m<module>\u001b[0;34m\u001b[0m\n\u001b[1;32m     10\u001b[0m \u001b[0;34m\u001b[0m\u001b[0m\n\u001b[1;32m     11\u001b[0m \u001b[0;34m\u001b[0m\u001b[0m\n\u001b[0;32m---> 12\u001b[0;31m         \u001b[0mcallset\u001b[0m \u001b[0;34m=\u001b[0m \u001b[0mallel\u001b[0m\u001b[0;34m.\u001b[0m\u001b[0mread_vcf\u001b[0m\u001b[0;34m(\u001b[0m\u001b[0mfile\u001b[0m\u001b[0;34m,\u001b[0m\u001b[0mfields\u001b[0m\u001b[0;34m=\u001b[0m\u001b[0;34m'*'\u001b[0m\u001b[0;34m)\u001b[0m\u001b[0;34m\u001b[0m\u001b[0;34m\u001b[0m\u001b[0m\n\u001b[0m\u001b[1;32m     13\u001b[0m         \u001b[0;32mif\u001b[0m \u001b[0mcallset\u001b[0m\u001b[0;34m!=\u001b[0m\u001b[0;32mNone\u001b[0m\u001b[0;34m:\u001b[0m\u001b[0;34m\u001b[0m\u001b[0;34m\u001b[0m\u001b[0m\n\u001b[1;32m     14\u001b[0m             \u001b[0mdf_current\u001b[0m \u001b[0;34m=\u001b[0m \u001b[0mpd\u001b[0m\u001b[0;34m.\u001b[0m\u001b[0mDataFrame\u001b[0m\u001b[0;34m(\u001b[0m\u001b[0;34m{\u001b[0m\u001b[0;34m'tool'\u001b[0m\u001b[0;34m:\u001b[0m \u001b[0mt\u001b[0m\u001b[0;34m,\u001b[0m \u001b[0;34m'strain'\u001b[0m\u001b[0;34m:\u001b[0m \u001b[0ms\u001b[0m\u001b[0;34m,\u001b[0m \u001b[0;34m'length'\u001b[0m\u001b[0;34m:\u001b[0m \u001b[0mcallset\u001b[0m\u001b[0;34m[\u001b[0m\u001b[0;34m'variants/SVLEN'\u001b[0m\u001b[0;34m]\u001b[0m\u001b[0;34m,\u001b[0m\u001b[0;34m'flag'\u001b[0m\u001b[0;34m:\u001b[0m \u001b[0mcallset\u001b[0m\u001b[0;34m[\u001b[0m\u001b[0;34m'variants/FLAG'\u001b[0m\u001b[0;34m]\u001b[0m\u001b[0;34m,\u001b[0m\u001b[0;34m'position'\u001b[0m\u001b[0;34m:\u001b[0m \u001b[0mcallset\u001b[0m\u001b[0;34m[\u001b[0m\u001b[0;34m'variants/POS'\u001b[0m\u001b[0;34m]\u001b[0m\u001b[0;34m,\u001b[0m\u001b[0;34m'threshold'\u001b[0m\u001b[0;34m:\u001b[0m \u001b[0mth\u001b[0m\u001b[0;34m}\u001b[0m\u001b[0;34m)\u001b[0m\u001b[0;34m\u001b[0m\u001b[0;34m\u001b[0m\u001b[0m\n",
      "\u001b[0;32m~/opt/anaconda3/lib/python3.7/site-packages/allel/io/vcf_read.py\u001b[0m in \u001b[0;36mread_vcf\u001b[0;34m(input, fields, exclude_fields, rename_fields, types, numbers, alt_number, fills, region, tabix, samples, transformers, buffer_size, chunk_length, log)\u001b[0m\n\u001b[1;32m    308\u001b[0m         \u001b[0mnumbers\u001b[0m\u001b[0;34m=\u001b[0m\u001b[0mnumbers\u001b[0m\u001b[0;34m,\u001b[0m \u001b[0malt_number\u001b[0m\u001b[0;34m=\u001b[0m\u001b[0malt_number\u001b[0m\u001b[0;34m,\u001b[0m \u001b[0mbuffer_size\u001b[0m\u001b[0;34m=\u001b[0m\u001b[0mbuffer_size\u001b[0m\u001b[0;34m,\u001b[0m\u001b[0;34m\u001b[0m\u001b[0;34m\u001b[0m\u001b[0m\n\u001b[1;32m    309\u001b[0m         \u001b[0mchunk_length\u001b[0m\u001b[0;34m=\u001b[0m\u001b[0mchunk_length\u001b[0m\u001b[0;34m,\u001b[0m \u001b[0mfills\u001b[0m\u001b[0;34m=\u001b[0m\u001b[0mfills\u001b[0m\u001b[0;34m,\u001b[0m \u001b[0mregion\u001b[0m\u001b[0;34m=\u001b[0m\u001b[0mregion\u001b[0m\u001b[0;34m,\u001b[0m \u001b[0mtabix\u001b[0m\u001b[0;34m=\u001b[0m\u001b[0mtabix\u001b[0m\u001b[0;34m,\u001b[0m\u001b[0;34m\u001b[0m\u001b[0;34m\u001b[0m\u001b[0m\n\u001b[0;32m--> 310\u001b[0;31m         \u001b[0msamples\u001b[0m\u001b[0;34m=\u001b[0m\u001b[0msamples\u001b[0m\u001b[0;34m,\u001b[0m \u001b[0mtransformers\u001b[0m\u001b[0;34m=\u001b[0m\u001b[0mtransformers\u001b[0m\u001b[0;34m\u001b[0m\u001b[0;34m\u001b[0m\u001b[0m\n\u001b[0m\u001b[1;32m    311\u001b[0m     )\n\u001b[1;32m    312\u001b[0m \u001b[0;34m\u001b[0m\u001b[0m\n",
      "\u001b[0;32m~/opt/anaconda3/lib/python3.7/site-packages/allel/io/vcf_read.py\u001b[0m in \u001b[0;36miter_vcf_chunks\u001b[0;34m(input, fields, exclude_fields, types, numbers, alt_number, fills, region, tabix, samples, transformers, buffer_size, chunk_length)\u001b[0m\n\u001b[1;32m   1142\u001b[0m     \u001b[0;31m# setup input stream\u001b[0m\u001b[0;34m\u001b[0m\u001b[0;34m\u001b[0m\u001b[0;34m\u001b[0m\u001b[0m\n\u001b[1;32m   1143\u001b[0m     stream = _setup_input_stream(input=input, region=region, tabix=tabix,\n\u001b[0;32m-> 1144\u001b[0;31m                                  buffer_size=buffer_size)\n\u001b[0m\u001b[1;32m   1145\u001b[0m \u001b[0;34m\u001b[0m\u001b[0m\n\u001b[1;32m   1146\u001b[0m     \u001b[0;31m# setup iterator\u001b[0m\u001b[0;34m\u001b[0m\u001b[0;34m\u001b[0m\u001b[0;34m\u001b[0m\u001b[0m\n",
      "\u001b[0;32m~/opt/anaconda3/lib/python3.7/site-packages/allel/io/vcf_read.py\u001b[0m in \u001b[0;36m_setup_input_stream\u001b[0;34m(input, region, tabix, buffer_size)\u001b[0m\n\u001b[1;32m   1065\u001b[0m     \u001b[0;32melif\u001b[0m \u001b[0misinstance\u001b[0m\u001b[0;34m(\u001b[0m\u001b[0minput\u001b[0m\u001b[0;34m,\u001b[0m \u001b[0mstr\u001b[0m\u001b[0;34m)\u001b[0m\u001b[0;34m:\u001b[0m\u001b[0;34m\u001b[0m\u001b[0;34m\u001b[0m\u001b[0m\n\u001b[1;32m   1066\u001b[0m         \u001b[0;31m# assume no compression\u001b[0m\u001b[0;34m\u001b[0m\u001b[0;34m\u001b[0m\u001b[0;34m\u001b[0m\u001b[0m\n\u001b[0;32m-> 1067\u001b[0;31m         \u001b[0mfileobj\u001b[0m \u001b[0;34m=\u001b[0m \u001b[0mopen\u001b[0m\u001b[0;34m(\u001b[0m\u001b[0minput\u001b[0m\u001b[0;34m,\u001b[0m \u001b[0mmode\u001b[0m\u001b[0;34m=\u001b[0m\u001b[0;34m'rb'\u001b[0m\u001b[0;34m,\u001b[0m \u001b[0mbuffering\u001b[0m\u001b[0;34m=\u001b[0m\u001b[0;36m0\u001b[0m\u001b[0;34m)\u001b[0m\u001b[0;34m\u001b[0m\u001b[0;34m\u001b[0m\u001b[0m\n\u001b[0m\u001b[1;32m   1068\u001b[0m         \u001b[0mclose\u001b[0m \u001b[0;34m=\u001b[0m \u001b[0;32mTrue\u001b[0m\u001b[0;34m\u001b[0m\u001b[0;34m\u001b[0m\u001b[0m\n\u001b[1;32m   1069\u001b[0m \u001b[0;34m\u001b[0m\u001b[0m\n",
      "\u001b[0;31mFileNotFoundError\u001b[0m: [Errno 2] No such file or directory: '../raw_data/mouse/custom_vcf_fulldata/10t/deletions/nf_10t.pindel.BALB_CJ.chr19.100p_sorted.modified.vcf'"
     ]
    }
   ],
   "source": [
    "#10 threshold deletions\n",
    "#missing files: pindel.BALB_CJ, and platypus.BALB_CJ\n",
    "\n",
    "th=10     \n",
    "df_current = pd.DataFrame(columns=['strain','length','flag','position','threshold'])\n",
    "df_10 = pd.DataFrame(columns=['tool','strain','length','flag','position','threshold'])\n",
    "\n",
    "for s in strain:\n",
    "    for t in tools:\n",
    "        file='../raw_data/mouse/custom_vcf_fulldata/'+str(th)+'t/deletions/nf_'+str(th)+'t.'+t+'.'+s+'.chr19.100p_sorted.modified.vcf'\n",
    "        \n",
    "        \n",
    "        callset = allel.read_vcf(file,fields='*')\n",
    "        if callset!=None:\n",
    "            df_current = pd.DataFrame({'tool': t, 'strain': s, 'length': callset['variants/SVLEN'],'flag': callset['variants/FLAG'],'position': callset['variants/POS'],'threshold': th})\n",
    "            df_10 = pd.concat([df_current, df_10],ignore_index=True)\n",
    "            \n",
    "        else:\n",
    "            print(\"Empty File: \" + file)\n",
    "            \n",
    "df_10.head()"
   ]
  },
  {
   "cell_type": "code",
   "execution_count": null,
   "metadata": {},
   "outputs": [],
   "source": [
    "#10 threshold non-deletions\n",
    "th=10     \n",
    "df_current = pd.DataFrame(columns=['strain','length','flag','position','threshold'])\n",
    "df_10_nondel = pd.DataFrame(columns=['tool','strain','length','flag','position','threshold'])\n",
    "\n",
    "for s in strain:\n",
    "    for t in tools:\n",
    "        file='../raw_data/mouse/custom_vcf_fulldata/'+str(th)+'t/non-deletions/nf_'+str(th)+'t.'+t+'.'+s+'.chr19.100p_sorted.modified.nondel.vcf'\n",
    "        \n",
    "        callset = allel.read_vcf(file,fields='*')\n",
    "        if callset!=None:\n",
    "            df_current = pd.DataFrame({'tool': t, 'strain': s, 'length': callset['variants/SVLEN'],'flag': callset['variants/FLAG'],'position': callset['variants/POS'],'threshold': th})\n",
    "            df_10_nondel = pd.concat([df_current, df_10_nondel],ignore_index=True)\n",
    "            \n",
    "        else:\n",
    "            print(\"Empty File: \" + file)\n",
    "            \n",
    "df_10_nondel.head()"
   ]
  },
  {
   "cell_type": "markdown",
   "metadata": {},
   "source": [
    "## 100 bp Threshold"
   ]
  },
  {
   "cell_type": "code",
   "execution_count": 26,
   "metadata": {},
   "outputs": [
    {
     "ename": "FileNotFoundError",
     "evalue": "[Errno 2] No such file or directory: '../raw_data/mouse/custom_vcf_fulldata/10t/deletions/nf_10t.pindel.BALB_CJ.chr19.100p_sorted.modified.vcf'",
     "output_type": "error",
     "traceback": [
      "\u001b[0;31m---------------------------------------------------------------------------\u001b[0m",
      "\u001b[0;31mFileNotFoundError\u001b[0m                         Traceback (most recent call last)",
      "\u001b[0;32m<ipython-input-26-1f4434d15b4a>\u001b[0m in \u001b[0;36m<module>\u001b[0;34m\u001b[0m\n\u001b[1;32m      8\u001b[0m     \u001b[0;32mfor\u001b[0m \u001b[0mt\u001b[0m \u001b[0;32min\u001b[0m \u001b[0mtools\u001b[0m\u001b[0;34m:\u001b[0m\u001b[0;34m\u001b[0m\u001b[0;34m\u001b[0m\u001b[0m\n\u001b[1;32m      9\u001b[0m         \u001b[0mfile\u001b[0m\u001b[0;34m=\u001b[0m\u001b[0;34m'../raw_data/mouse/custom_vcf_fulldata/'\u001b[0m\u001b[0;34m+\u001b[0m\u001b[0mstr\u001b[0m\u001b[0;34m(\u001b[0m\u001b[0mth\u001b[0m\u001b[0;34m)\u001b[0m\u001b[0;34m+\u001b[0m\u001b[0;34m't/deletions/nf_'\u001b[0m\u001b[0;34m+\u001b[0m\u001b[0mstr\u001b[0m\u001b[0;34m(\u001b[0m\u001b[0mth\u001b[0m\u001b[0;34m)\u001b[0m\u001b[0;34m+\u001b[0m\u001b[0;34m't.'\u001b[0m\u001b[0;34m+\u001b[0m\u001b[0mt\u001b[0m\u001b[0;34m+\u001b[0m\u001b[0;34m'.'\u001b[0m\u001b[0;34m+\u001b[0m\u001b[0ms\u001b[0m\u001b[0;34m+\u001b[0m\u001b[0;34m'.chr19.100p_sorted.modified.vcf'\u001b[0m\u001b[0;34m\u001b[0m\u001b[0;34m\u001b[0m\u001b[0m\n\u001b[0;32m---> 10\u001b[0;31m         \u001b[0mcallset\u001b[0m \u001b[0;34m=\u001b[0m \u001b[0mallel\u001b[0m\u001b[0;34m.\u001b[0m\u001b[0mread_vcf\u001b[0m\u001b[0;34m(\u001b[0m\u001b[0mfile\u001b[0m\u001b[0;34m,\u001b[0m\u001b[0mfields\u001b[0m\u001b[0;34m=\u001b[0m\u001b[0;34m'*'\u001b[0m\u001b[0;34m)\u001b[0m\u001b[0;34m\u001b[0m\u001b[0;34m\u001b[0m\u001b[0m\n\u001b[0m\u001b[1;32m     11\u001b[0m         \u001b[0;32mif\u001b[0m \u001b[0mcallset\u001b[0m\u001b[0;34m!=\u001b[0m\u001b[0;32mNone\u001b[0m\u001b[0;34m:\u001b[0m\u001b[0;34m\u001b[0m\u001b[0;34m\u001b[0m\u001b[0m\n\u001b[1;32m     12\u001b[0m             \u001b[0mdf_current\u001b[0m \u001b[0;34m=\u001b[0m \u001b[0mpd\u001b[0m\u001b[0;34m.\u001b[0m\u001b[0mDataFrame\u001b[0m\u001b[0;34m(\u001b[0m\u001b[0;34m{\u001b[0m\u001b[0;34m'tool'\u001b[0m\u001b[0;34m:\u001b[0m \u001b[0mt\u001b[0m\u001b[0;34m,\u001b[0m \u001b[0;34m'strain'\u001b[0m\u001b[0;34m:\u001b[0m \u001b[0ms\u001b[0m\u001b[0;34m,\u001b[0m \u001b[0;34m'length'\u001b[0m\u001b[0;34m:\u001b[0m \u001b[0mcallset\u001b[0m\u001b[0;34m[\u001b[0m\u001b[0;34m'variants/SVLEN'\u001b[0m\u001b[0;34m]\u001b[0m\u001b[0;34m,\u001b[0m\u001b[0;34m'flag'\u001b[0m\u001b[0;34m:\u001b[0m \u001b[0mcallset\u001b[0m\u001b[0;34m[\u001b[0m\u001b[0;34m'variants/FLAG'\u001b[0m\u001b[0;34m]\u001b[0m\u001b[0;34m,\u001b[0m\u001b[0;34m'position'\u001b[0m\u001b[0;34m:\u001b[0m \u001b[0mcallset\u001b[0m\u001b[0;34m[\u001b[0m\u001b[0;34m'variants/POS'\u001b[0m\u001b[0;34m]\u001b[0m\u001b[0;34m,\u001b[0m\u001b[0;34m'threshold'\u001b[0m\u001b[0;34m:\u001b[0m \u001b[0mth\u001b[0m\u001b[0;34m}\u001b[0m\u001b[0;34m)\u001b[0m\u001b[0;34m\u001b[0m\u001b[0;34m\u001b[0m\u001b[0m\n",
      "\u001b[0;32m~/opt/anaconda3/lib/python3.7/site-packages/allel/io/vcf_read.py\u001b[0m in \u001b[0;36mread_vcf\u001b[0;34m(input, fields, exclude_fields, rename_fields, types, numbers, alt_number, fills, region, tabix, samples, transformers, buffer_size, chunk_length, log)\u001b[0m\n\u001b[1;32m    308\u001b[0m         \u001b[0mnumbers\u001b[0m\u001b[0;34m=\u001b[0m\u001b[0mnumbers\u001b[0m\u001b[0;34m,\u001b[0m \u001b[0malt_number\u001b[0m\u001b[0;34m=\u001b[0m\u001b[0malt_number\u001b[0m\u001b[0;34m,\u001b[0m \u001b[0mbuffer_size\u001b[0m\u001b[0;34m=\u001b[0m\u001b[0mbuffer_size\u001b[0m\u001b[0;34m,\u001b[0m\u001b[0;34m\u001b[0m\u001b[0;34m\u001b[0m\u001b[0m\n\u001b[1;32m    309\u001b[0m         \u001b[0mchunk_length\u001b[0m\u001b[0;34m=\u001b[0m\u001b[0mchunk_length\u001b[0m\u001b[0;34m,\u001b[0m \u001b[0mfills\u001b[0m\u001b[0;34m=\u001b[0m\u001b[0mfills\u001b[0m\u001b[0;34m,\u001b[0m \u001b[0mregion\u001b[0m\u001b[0;34m=\u001b[0m\u001b[0mregion\u001b[0m\u001b[0;34m,\u001b[0m \u001b[0mtabix\u001b[0m\u001b[0;34m=\u001b[0m\u001b[0mtabix\u001b[0m\u001b[0;34m,\u001b[0m\u001b[0;34m\u001b[0m\u001b[0;34m\u001b[0m\u001b[0m\n\u001b[0;32m--> 310\u001b[0;31m         \u001b[0msamples\u001b[0m\u001b[0;34m=\u001b[0m\u001b[0msamples\u001b[0m\u001b[0;34m,\u001b[0m \u001b[0mtransformers\u001b[0m\u001b[0;34m=\u001b[0m\u001b[0mtransformers\u001b[0m\u001b[0;34m\u001b[0m\u001b[0;34m\u001b[0m\u001b[0m\n\u001b[0m\u001b[1;32m    311\u001b[0m     )\n\u001b[1;32m    312\u001b[0m \u001b[0;34m\u001b[0m\u001b[0m\n",
      "\u001b[0;32m~/opt/anaconda3/lib/python3.7/site-packages/allel/io/vcf_read.py\u001b[0m in \u001b[0;36miter_vcf_chunks\u001b[0;34m(input, fields, exclude_fields, types, numbers, alt_number, fills, region, tabix, samples, transformers, buffer_size, chunk_length)\u001b[0m\n\u001b[1;32m   1142\u001b[0m     \u001b[0;31m# setup input stream\u001b[0m\u001b[0;34m\u001b[0m\u001b[0;34m\u001b[0m\u001b[0;34m\u001b[0m\u001b[0m\n\u001b[1;32m   1143\u001b[0m     stream = _setup_input_stream(input=input, region=region, tabix=tabix,\n\u001b[0;32m-> 1144\u001b[0;31m                                  buffer_size=buffer_size)\n\u001b[0m\u001b[1;32m   1145\u001b[0m \u001b[0;34m\u001b[0m\u001b[0m\n\u001b[1;32m   1146\u001b[0m     \u001b[0;31m# setup iterator\u001b[0m\u001b[0;34m\u001b[0m\u001b[0;34m\u001b[0m\u001b[0;34m\u001b[0m\u001b[0m\n",
      "\u001b[0;32m~/opt/anaconda3/lib/python3.7/site-packages/allel/io/vcf_read.py\u001b[0m in \u001b[0;36m_setup_input_stream\u001b[0;34m(input, region, tabix, buffer_size)\u001b[0m\n\u001b[1;32m   1065\u001b[0m     \u001b[0;32melif\u001b[0m \u001b[0misinstance\u001b[0m\u001b[0;34m(\u001b[0m\u001b[0minput\u001b[0m\u001b[0;34m,\u001b[0m \u001b[0mstr\u001b[0m\u001b[0;34m)\u001b[0m\u001b[0;34m:\u001b[0m\u001b[0;34m\u001b[0m\u001b[0;34m\u001b[0m\u001b[0m\n\u001b[1;32m   1066\u001b[0m         \u001b[0;31m# assume no compression\u001b[0m\u001b[0;34m\u001b[0m\u001b[0;34m\u001b[0m\u001b[0;34m\u001b[0m\u001b[0m\n\u001b[0;32m-> 1067\u001b[0;31m         \u001b[0mfileobj\u001b[0m \u001b[0;34m=\u001b[0m \u001b[0mopen\u001b[0m\u001b[0;34m(\u001b[0m\u001b[0minput\u001b[0m\u001b[0;34m,\u001b[0m \u001b[0mmode\u001b[0m\u001b[0;34m=\u001b[0m\u001b[0;34m'rb'\u001b[0m\u001b[0;34m,\u001b[0m \u001b[0mbuffering\u001b[0m\u001b[0;34m=\u001b[0m\u001b[0;36m0\u001b[0m\u001b[0;34m)\u001b[0m\u001b[0;34m\u001b[0m\u001b[0;34m\u001b[0m\u001b[0m\n\u001b[0m\u001b[1;32m   1068\u001b[0m         \u001b[0mclose\u001b[0m \u001b[0;34m=\u001b[0m \u001b[0;32mTrue\u001b[0m\u001b[0;34m\u001b[0m\u001b[0;34m\u001b[0m\u001b[0m\n\u001b[1;32m   1069\u001b[0m \u001b[0;34m\u001b[0m\u001b[0m\n",
      "\u001b[0;31mFileNotFoundError\u001b[0m: [Errno 2] No such file or directory: '../raw_data/mouse/custom_vcf_fulldata/10t/deletions/nf_10t.pindel.BALB_CJ.chr19.100p_sorted.modified.vcf'"
     ]
    }
   ],
   "source": [
    "#100 threshold deletions\n",
    "#missing files: pindel.BALB_CJ, and platypus.BALB_CJ\n",
    "\n",
    "df_current = pd.DataFrame(columns=['strain','length','flag','position','threshold'])\n",
    "df_100 = pd.DataFrame(columns=['tool','strain','length','flag','position','threshold'])\n",
    "\n",
    "for s in strain:\n",
    "    for t in tools:\n",
    "        file='../raw_data/mouse/custom_vcf_fulldata/'+str(th)+'t/deletions/nf_'+str(th)+'t.'+t+'.'+s+'.chr19.100p_sorted.modified.vcf'\n",
    "        callset = allel.read_vcf(file,fields='*')\n",
    "        if callset!=None:\n",
    "            df_current = pd.DataFrame({'tool': t, 'strain': s, 'length': callset['variants/SVLEN'],'flag': callset['variants/FLAG'],'position': callset['variants/POS'],'threshold': th})\n",
    "            df_100 = pd.concat([df_current, df_100],ignore_index=True)\n",
    "        \n",
    "        else:\n",
    "            print(\"Empty File: \" + file)\n",
    "            \n",
    "df_100.head()"
   ]
  },
  {
   "cell_type": "code",
   "execution_count": 27,
   "metadata": {},
   "outputs": [
    {
     "name": "stdout",
     "output_type": "stream",
     "text": [
      "Empty File: ../raw_data/mouse/custom_vcf_fulldata/100t/non-deletions/nf_100t.lumpexpress.AKR_J.chr19.100p_sorted.modified.nondel.vcf\n",
      "Empty File: ../raw_data/mouse/custom_vcf_fulldata/100t/non-deletions/nf_100t.indelminer.LP_J.chr19.100p_sorted.modified.nondel.vcf\n"
     ]
    },
    {
     "data": {
      "text/html": [
       "<div>\n",
       "<style scoped>\n",
       "    .dataframe tbody tr th:only-of-type {\n",
       "        vertical-align: middle;\n",
       "    }\n",
       "\n",
       "    .dataframe tbody tr th {\n",
       "        vertical-align: top;\n",
       "    }\n",
       "\n",
       "    .dataframe thead th {\n",
       "        text-align: right;\n",
       "    }\n",
       "</style>\n",
       "<table border=\"1\" class=\"dataframe\">\n",
       "  <thead>\n",
       "    <tr style=\"text-align: right;\">\n",
       "      <th></th>\n",
       "      <th>tool</th>\n",
       "      <th>strain</th>\n",
       "      <th>length</th>\n",
       "      <th>flag</th>\n",
       "      <th>position</th>\n",
       "      <th>threshold</th>\n",
       "    </tr>\n",
       "  </thead>\n",
       "  <tbody>\n",
       "    <tr>\n",
       "      <td>0</td>\n",
       "      <td>sniffles</td>\n",
       "      <td>LP_J</td>\n",
       "      <td>24683</td>\n",
       "      <td>TN</td>\n",
       "      <td>21449705</td>\n",
       "      <td>100</td>\n",
       "    </tr>\n",
       "    <tr>\n",
       "      <td>1</td>\n",
       "      <td>sniffles</td>\n",
       "      <td>LP_J</td>\n",
       "      <td>21785</td>\n",
       "      <td>TN</td>\n",
       "      <td>22409688</td>\n",
       "      <td>100</td>\n",
       "    </tr>\n",
       "    <tr>\n",
       "      <td>2</td>\n",
       "      <td>sniffles</td>\n",
       "      <td>LP_J</td>\n",
       "      <td>28641</td>\n",
       "      <td>TN</td>\n",
       "      <td>22431541</td>\n",
       "      <td>100</td>\n",
       "    </tr>\n",
       "    <tr>\n",
       "      <td>3</td>\n",
       "      <td>sniffles</td>\n",
       "      <td>LP_J</td>\n",
       "      <td>261746</td>\n",
       "      <td>TN</td>\n",
       "      <td>22797608</td>\n",
       "      <td>100</td>\n",
       "    </tr>\n",
       "    <tr>\n",
       "      <td>4</td>\n",
       "      <td>sniffles</td>\n",
       "      <td>LP_J</td>\n",
       "      <td>149268</td>\n",
       "      <td>TN</td>\n",
       "      <td>23059703</td>\n",
       "      <td>100</td>\n",
       "    </tr>\n",
       "  </tbody>\n",
       "</table>\n",
       "</div>"
      ],
      "text/plain": [
       "       tool strain  length flag  position threshold\n",
       "0  sniffles   LP_J   24683   TN  21449705       100\n",
       "1  sniffles   LP_J   21785   TN  22409688       100\n",
       "2  sniffles   LP_J   28641   TN  22431541       100\n",
       "3  sniffles   LP_J  261746   TN  22797608       100\n",
       "4  sniffles   LP_J  149268   TN  23059703       100"
      ]
     },
     "execution_count": 27,
     "metadata": {},
     "output_type": "execute_result"
    }
   ],
   "source": [
    "#100 threshold non-deletions\n",
    "\n",
    "th=100     \n",
    "df_current = pd.DataFrame(columns=['strain','length','flag','position','threshold'])\n",
    "df_100_nondel = pd.DataFrame(columns=['tool','strain','length','flag','position','threshold'])\n",
    "\n",
    "for s in strain:\n",
    "    for t in tools:\n",
    "        file='../raw_data/mouse/custom_vcf_fulldata/'+str(th)+'t/non-deletions/nf_'+str(th)+'t.'+t+'.'+s+'.chr19.100p_sorted.modified.nondel.vcf'\n",
    "        callset = allel.read_vcf(file,fields='*')\n",
    "        if callset!=None:\n",
    "            df_current = pd.DataFrame({'tool': t, 'strain': s, 'length': callset['variants/SVLEN'],'flag': callset['variants/FLAG'],'position': callset['variants/POS'],'threshold': th})\n",
    "            df_100_nondel = pd.concat([df_current, df_100_nondel],ignore_index=True)\n",
    "            \n",
    "        else:\n",
    "            print(\"Empty File: \" + file)\n",
    "            \n",
    "df_100_nondel.head()"
   ]
  },
  {
   "cell_type": "markdown",
   "metadata": {},
   "source": [
    "## 1000 bp Threshold"
   ]
  },
  {
   "cell_type": "code",
   "execution_count": 28,
   "metadata": {},
   "outputs": [
    {
     "ename": "FileNotFoundError",
     "evalue": "[Errno 2] No such file or directory: '../raw_data/mouse/custom_vcf_fulldata/1000t/deletions/nf_1000t.pindel.BALB_CJ.chr19.100p_sorted.modified.vcf'",
     "output_type": "error",
     "traceback": [
      "\u001b[0;31m---------------------------------------------------------------------------\u001b[0m",
      "\u001b[0;31mFileNotFoundError\u001b[0m                         Traceback (most recent call last)",
      "\u001b[0;32m<ipython-input-28-ce0ff16a3183>\u001b[0m in \u001b[0;36m<module>\u001b[0;34m\u001b[0m\n\u001b[1;32m     11\u001b[0m \u001b[0;34m\u001b[0m\u001b[0m\n\u001b[1;32m     12\u001b[0m \u001b[0;34m\u001b[0m\u001b[0m\n\u001b[0;32m---> 13\u001b[0;31m         \u001b[0mcallset\u001b[0m \u001b[0;34m=\u001b[0m \u001b[0mallel\u001b[0m\u001b[0;34m.\u001b[0m\u001b[0mread_vcf\u001b[0m\u001b[0;34m(\u001b[0m\u001b[0mfile\u001b[0m\u001b[0;34m,\u001b[0m\u001b[0mfields\u001b[0m\u001b[0;34m=\u001b[0m\u001b[0;34m'*'\u001b[0m\u001b[0;34m)\u001b[0m\u001b[0;34m\u001b[0m\u001b[0;34m\u001b[0m\u001b[0m\n\u001b[0m\u001b[1;32m     14\u001b[0m         \u001b[0;32mif\u001b[0m \u001b[0mcallset\u001b[0m\u001b[0;34m!=\u001b[0m\u001b[0;32mNone\u001b[0m\u001b[0;34m:\u001b[0m\u001b[0;34m\u001b[0m\u001b[0;34m\u001b[0m\u001b[0m\n\u001b[1;32m     15\u001b[0m             \u001b[0mdf_current\u001b[0m \u001b[0;34m=\u001b[0m \u001b[0mpd\u001b[0m\u001b[0;34m.\u001b[0m\u001b[0mDataFrame\u001b[0m\u001b[0;34m(\u001b[0m\u001b[0;34m{\u001b[0m\u001b[0;34m'tool'\u001b[0m\u001b[0;34m:\u001b[0m \u001b[0mt\u001b[0m\u001b[0;34m,\u001b[0m \u001b[0;34m'strain'\u001b[0m\u001b[0;34m:\u001b[0m \u001b[0ms\u001b[0m\u001b[0;34m,\u001b[0m \u001b[0;34m'length'\u001b[0m\u001b[0;34m:\u001b[0m \u001b[0mcallset\u001b[0m\u001b[0;34m[\u001b[0m\u001b[0;34m'variants/SVLEN'\u001b[0m\u001b[0;34m]\u001b[0m\u001b[0;34m,\u001b[0m\u001b[0;34m'flag'\u001b[0m\u001b[0;34m:\u001b[0m \u001b[0mcallset\u001b[0m\u001b[0;34m[\u001b[0m\u001b[0;34m'variants/FLAG'\u001b[0m\u001b[0;34m]\u001b[0m\u001b[0;34m,\u001b[0m\u001b[0;34m'position'\u001b[0m\u001b[0;34m:\u001b[0m \u001b[0mcallset\u001b[0m\u001b[0;34m[\u001b[0m\u001b[0;34m'variants/POS'\u001b[0m\u001b[0;34m]\u001b[0m\u001b[0;34m,\u001b[0m\u001b[0;34m'threshold'\u001b[0m\u001b[0;34m:\u001b[0m \u001b[0mth\u001b[0m\u001b[0;34m}\u001b[0m\u001b[0;34m)\u001b[0m\u001b[0;34m\u001b[0m\u001b[0;34m\u001b[0m\u001b[0m\n",
      "\u001b[0;32m~/opt/anaconda3/lib/python3.7/site-packages/allel/io/vcf_read.py\u001b[0m in \u001b[0;36mread_vcf\u001b[0;34m(input, fields, exclude_fields, rename_fields, types, numbers, alt_number, fills, region, tabix, samples, transformers, buffer_size, chunk_length, log)\u001b[0m\n\u001b[1;32m    308\u001b[0m         \u001b[0mnumbers\u001b[0m\u001b[0;34m=\u001b[0m\u001b[0mnumbers\u001b[0m\u001b[0;34m,\u001b[0m \u001b[0malt_number\u001b[0m\u001b[0;34m=\u001b[0m\u001b[0malt_number\u001b[0m\u001b[0;34m,\u001b[0m \u001b[0mbuffer_size\u001b[0m\u001b[0;34m=\u001b[0m\u001b[0mbuffer_size\u001b[0m\u001b[0;34m,\u001b[0m\u001b[0;34m\u001b[0m\u001b[0;34m\u001b[0m\u001b[0m\n\u001b[1;32m    309\u001b[0m         \u001b[0mchunk_length\u001b[0m\u001b[0;34m=\u001b[0m\u001b[0mchunk_length\u001b[0m\u001b[0;34m,\u001b[0m \u001b[0mfills\u001b[0m\u001b[0;34m=\u001b[0m\u001b[0mfills\u001b[0m\u001b[0;34m,\u001b[0m \u001b[0mregion\u001b[0m\u001b[0;34m=\u001b[0m\u001b[0mregion\u001b[0m\u001b[0;34m,\u001b[0m \u001b[0mtabix\u001b[0m\u001b[0;34m=\u001b[0m\u001b[0mtabix\u001b[0m\u001b[0;34m,\u001b[0m\u001b[0;34m\u001b[0m\u001b[0;34m\u001b[0m\u001b[0m\n\u001b[0;32m--> 310\u001b[0;31m         \u001b[0msamples\u001b[0m\u001b[0;34m=\u001b[0m\u001b[0msamples\u001b[0m\u001b[0;34m,\u001b[0m \u001b[0mtransformers\u001b[0m\u001b[0;34m=\u001b[0m\u001b[0mtransformers\u001b[0m\u001b[0;34m\u001b[0m\u001b[0;34m\u001b[0m\u001b[0m\n\u001b[0m\u001b[1;32m    311\u001b[0m     )\n\u001b[1;32m    312\u001b[0m \u001b[0;34m\u001b[0m\u001b[0m\n",
      "\u001b[0;32m~/opt/anaconda3/lib/python3.7/site-packages/allel/io/vcf_read.py\u001b[0m in \u001b[0;36miter_vcf_chunks\u001b[0;34m(input, fields, exclude_fields, types, numbers, alt_number, fills, region, tabix, samples, transformers, buffer_size, chunk_length)\u001b[0m\n\u001b[1;32m   1142\u001b[0m     \u001b[0;31m# setup input stream\u001b[0m\u001b[0;34m\u001b[0m\u001b[0;34m\u001b[0m\u001b[0;34m\u001b[0m\u001b[0m\n\u001b[1;32m   1143\u001b[0m     stream = _setup_input_stream(input=input, region=region, tabix=tabix,\n\u001b[0;32m-> 1144\u001b[0;31m                                  buffer_size=buffer_size)\n\u001b[0m\u001b[1;32m   1145\u001b[0m \u001b[0;34m\u001b[0m\u001b[0m\n\u001b[1;32m   1146\u001b[0m     \u001b[0;31m# setup iterator\u001b[0m\u001b[0;34m\u001b[0m\u001b[0;34m\u001b[0m\u001b[0;34m\u001b[0m\u001b[0m\n",
      "\u001b[0;32m~/opt/anaconda3/lib/python3.7/site-packages/allel/io/vcf_read.py\u001b[0m in \u001b[0;36m_setup_input_stream\u001b[0;34m(input, region, tabix, buffer_size)\u001b[0m\n\u001b[1;32m   1065\u001b[0m     \u001b[0;32melif\u001b[0m \u001b[0misinstance\u001b[0m\u001b[0;34m(\u001b[0m\u001b[0minput\u001b[0m\u001b[0;34m,\u001b[0m \u001b[0mstr\u001b[0m\u001b[0;34m)\u001b[0m\u001b[0;34m:\u001b[0m\u001b[0;34m\u001b[0m\u001b[0;34m\u001b[0m\u001b[0m\n\u001b[1;32m   1066\u001b[0m         \u001b[0;31m# assume no compression\u001b[0m\u001b[0;34m\u001b[0m\u001b[0;34m\u001b[0m\u001b[0;34m\u001b[0m\u001b[0m\n\u001b[0;32m-> 1067\u001b[0;31m         \u001b[0mfileobj\u001b[0m \u001b[0;34m=\u001b[0m \u001b[0mopen\u001b[0m\u001b[0;34m(\u001b[0m\u001b[0minput\u001b[0m\u001b[0;34m,\u001b[0m \u001b[0mmode\u001b[0m\u001b[0;34m=\u001b[0m\u001b[0;34m'rb'\u001b[0m\u001b[0;34m,\u001b[0m \u001b[0mbuffering\u001b[0m\u001b[0;34m=\u001b[0m\u001b[0;36m0\u001b[0m\u001b[0;34m)\u001b[0m\u001b[0;34m\u001b[0m\u001b[0;34m\u001b[0m\u001b[0m\n\u001b[0m\u001b[1;32m   1068\u001b[0m         \u001b[0mclose\u001b[0m \u001b[0;34m=\u001b[0m \u001b[0;32mTrue\u001b[0m\u001b[0;34m\u001b[0m\u001b[0;34m\u001b[0m\u001b[0m\n\u001b[1;32m   1069\u001b[0m \u001b[0;34m\u001b[0m\u001b[0m\n",
      "\u001b[0;31mFileNotFoundError\u001b[0m: [Errno 2] No such file or directory: '../raw_data/mouse/custom_vcf_fulldata/1000t/deletions/nf_1000t.pindel.BALB_CJ.chr19.100p_sorted.modified.vcf'"
     ]
    }
   ],
   "source": [
    "#1000 threshold deletions\n",
    "#missing files: pindel.BALB_CJ, and platypus.BALB_CJ\n",
    "\n",
    "th=1000    \n",
    "df_current = pd.DataFrame(columns=['strain','length','flag','position','threshold'])\n",
    "df_1000 = pd.DataFrame(columns=['tool','strain','length','flag','position','threshold'])\n",
    "\n",
    "for s in strain:\n",
    "    for t in tools:\n",
    "        file='../raw_data/mouse/custom_vcf_fulldata/'+str(th)+'t/deletions/nf_'+str(th)+'t.'+t+'.'+s+'.chr19.100p_sorted.modified.vcf'\n",
    "        \n",
    "        \n",
    "        callset = allel.read_vcf(file,fields='*')\n",
    "        if callset!=None:\n",
    "            df_current = pd.DataFrame({'tool': t, 'strain': s, 'length': callset['variants/SVLEN'],'flag': callset['variants/FLAG'],'position': callset['variants/POS'],'threshold': th})\n",
    "            df_1000 = pd.concat([df_current, df_1000],ignore_index=True)\n",
    "            \n",
    "        else:\n",
    "            print(\"Empty File: \" + file)\n",
    "           \n",
    "df_1000.head()\n"
   ]
  },
  {
   "cell_type": "code",
   "execution_count": 29,
   "metadata": {},
   "outputs": [
    {
     "name": "stdout",
     "output_type": "stream",
     "text": [
      "Empty File: ../raw_data/mouse/custom_vcf_fulldata/1000t/non-deletions/nf_1000t.lumpexpress.AKR_J.chr19.100p_sorted.modified.nondel.vcf\n"
     ]
    },
    {
     "data": {
      "text/html": [
       "<div>\n",
       "<style scoped>\n",
       "    .dataframe tbody tr th:only-of-type {\n",
       "        vertical-align: middle;\n",
       "    }\n",
       "\n",
       "    .dataframe tbody tr th {\n",
       "        vertical-align: top;\n",
       "    }\n",
       "\n",
       "    .dataframe thead th {\n",
       "        text-align: right;\n",
       "    }\n",
       "</style>\n",
       "<table border=\"1\" class=\"dataframe\">\n",
       "  <thead>\n",
       "    <tr style=\"text-align: right;\">\n",
       "      <th></th>\n",
       "      <th>tool</th>\n",
       "      <th>strain</th>\n",
       "      <th>length</th>\n",
       "      <th>flag</th>\n",
       "      <th>position</th>\n",
       "      <th>threshold</th>\n",
       "    </tr>\n",
       "  </thead>\n",
       "  <tbody>\n",
       "    <tr>\n",
       "      <td>0</td>\n",
       "      <td>sniffles</td>\n",
       "      <td>LP_J</td>\n",
       "      <td>2164</td>\n",
       "      <td>TN</td>\n",
       "      <td>18924303</td>\n",
       "      <td>1000</td>\n",
       "    </tr>\n",
       "    <tr>\n",
       "      <td>1</td>\n",
       "      <td>sniffles</td>\n",
       "      <td>LP_J</td>\n",
       "      <td>868204</td>\n",
       "      <td>TN</td>\n",
       "      <td>18926808</td>\n",
       "      <td>1000</td>\n",
       "    </tr>\n",
       "    <tr>\n",
       "      <td>2</td>\n",
       "      <td>sniffles</td>\n",
       "      <td>LP_J</td>\n",
       "      <td>24683</td>\n",
       "      <td>TN</td>\n",
       "      <td>21449705</td>\n",
       "      <td>1000</td>\n",
       "    </tr>\n",
       "    <tr>\n",
       "      <td>3</td>\n",
       "      <td>sniffles</td>\n",
       "      <td>LP_J</td>\n",
       "      <td>21785</td>\n",
       "      <td>TN</td>\n",
       "      <td>22409688</td>\n",
       "      <td>1000</td>\n",
       "    </tr>\n",
       "    <tr>\n",
       "      <td>4</td>\n",
       "      <td>sniffles</td>\n",
       "      <td>LP_J</td>\n",
       "      <td>28641</td>\n",
       "      <td>TN</td>\n",
       "      <td>22431541</td>\n",
       "      <td>1000</td>\n",
       "    </tr>\n",
       "  </tbody>\n",
       "</table>\n",
       "</div>"
      ],
      "text/plain": [
       "       tool strain  length flag  position threshold\n",
       "0  sniffles   LP_J    2164   TN  18924303      1000\n",
       "1  sniffles   LP_J  868204   TN  18926808      1000\n",
       "2  sniffles   LP_J   24683   TN  21449705      1000\n",
       "3  sniffles   LP_J   21785   TN  22409688      1000\n",
       "4  sniffles   LP_J   28641   TN  22431541      1000"
      ]
     },
     "execution_count": 29,
     "metadata": {},
     "output_type": "execute_result"
    }
   ],
   "source": [
    "#1000 threshold non-deletions\n",
    "\n",
    "th=1000    \n",
    "df_current = pd.DataFrame(columns=['strain','length','flag','position','threshold'])\n",
    "df_1000_nondel = pd.DataFrame(columns=['tool','strain','length','flag','position','threshold'])\n",
    "\n",
    "for s in strain:\n",
    "    for t in tools:\n",
    "        file='../raw_data/mouse/custom_vcf_fulldata/'+str(th)+'t/non-deletions/nf_'+str(th)+'t.'+t+'.'+s+'.chr19.100p_sorted.modified.nondel.vcf'\n",
    "        \n",
    "        \n",
    "        callset = allel.read_vcf(file,fields='*')\n",
    "        if callset!=None:\n",
    "            df_current = pd.DataFrame({'tool': t, 'strain': s, 'length': callset['variants/SVLEN'],'flag': callset['variants/FLAG'],'position': callset['variants/POS'],'threshold': th})\n",
    "            df_1000_nondel = pd.concat([df_current, df_1000_nondel],ignore_index=True)\n",
    "            \n",
    "        else:\n",
    "            print(\"Empty File: \" + file)\n",
    "        \n",
    "df_1000_nondel.head()\n",
    "\n"
   ]
  },
  {
   "cell_type": "markdown",
   "metadata": {},
   "source": [
    "## 10000 bp Threshold"
   ]
  },
  {
   "cell_type": "code",
   "execution_count": 31,
   "metadata": {},
   "outputs": [
    {
     "ename": "FileNotFoundError",
     "evalue": "[Errno 2] No such file or directory: '../raw_data/mouse/custom_vcf_fulldata/10000t/deletions/nf_10000t.pindel.BALB_CJ.chr19.100p_sorted.modified.vcf'",
     "output_type": "error",
     "traceback": [
      "\u001b[0;31m---------------------------------------------------------------------------\u001b[0m",
      "\u001b[0;31mFileNotFoundError\u001b[0m                         Traceback (most recent call last)",
      "\u001b[0;32m<ipython-input-31-b041771dd43c>\u001b[0m in \u001b[0;36m<module>\u001b[0;34m\u001b[0m\n\u001b[1;32m     11\u001b[0m \u001b[0;34m\u001b[0m\u001b[0m\n\u001b[1;32m     12\u001b[0m \u001b[0;34m\u001b[0m\u001b[0m\n\u001b[0;32m---> 13\u001b[0;31m         \u001b[0mcallset\u001b[0m \u001b[0;34m=\u001b[0m \u001b[0mallel\u001b[0m\u001b[0;34m.\u001b[0m\u001b[0mread_vcf\u001b[0m\u001b[0;34m(\u001b[0m\u001b[0mfile\u001b[0m\u001b[0;34m,\u001b[0m\u001b[0mfields\u001b[0m\u001b[0;34m=\u001b[0m\u001b[0;34m'*'\u001b[0m\u001b[0;34m)\u001b[0m\u001b[0;34m\u001b[0m\u001b[0;34m\u001b[0m\u001b[0m\n\u001b[0m\u001b[1;32m     14\u001b[0m         \u001b[0;32mif\u001b[0m \u001b[0mcallset\u001b[0m\u001b[0;34m!=\u001b[0m\u001b[0;32mNone\u001b[0m\u001b[0;34m:\u001b[0m\u001b[0;34m\u001b[0m\u001b[0;34m\u001b[0m\u001b[0m\n\u001b[1;32m     15\u001b[0m             \u001b[0mdf_current\u001b[0m \u001b[0;34m=\u001b[0m \u001b[0mpd\u001b[0m\u001b[0;34m.\u001b[0m\u001b[0mDataFrame\u001b[0m\u001b[0;34m(\u001b[0m\u001b[0;34m{\u001b[0m\u001b[0;34m'tool'\u001b[0m\u001b[0;34m:\u001b[0m \u001b[0mt\u001b[0m\u001b[0;34m,\u001b[0m \u001b[0;34m'strain'\u001b[0m\u001b[0;34m:\u001b[0m \u001b[0ms\u001b[0m\u001b[0;34m,\u001b[0m \u001b[0;34m'length'\u001b[0m\u001b[0;34m:\u001b[0m \u001b[0mcallset\u001b[0m\u001b[0;34m[\u001b[0m\u001b[0;34m'variants/SVLEN'\u001b[0m\u001b[0;34m]\u001b[0m\u001b[0;34m,\u001b[0m\u001b[0;34m'flag'\u001b[0m\u001b[0;34m:\u001b[0m \u001b[0mcallset\u001b[0m\u001b[0;34m[\u001b[0m\u001b[0;34m'variants/FLAG'\u001b[0m\u001b[0;34m]\u001b[0m\u001b[0;34m,\u001b[0m\u001b[0;34m'position'\u001b[0m\u001b[0;34m:\u001b[0m \u001b[0mcallset\u001b[0m\u001b[0;34m[\u001b[0m\u001b[0;34m'variants/POS'\u001b[0m\u001b[0;34m]\u001b[0m\u001b[0;34m,\u001b[0m\u001b[0;34m'threshold'\u001b[0m\u001b[0;34m:\u001b[0m \u001b[0mth\u001b[0m\u001b[0;34m}\u001b[0m\u001b[0;34m)\u001b[0m\u001b[0;34m\u001b[0m\u001b[0;34m\u001b[0m\u001b[0m\n",
      "\u001b[0;32m~/opt/anaconda3/lib/python3.7/site-packages/allel/io/vcf_read.py\u001b[0m in \u001b[0;36mread_vcf\u001b[0;34m(input, fields, exclude_fields, rename_fields, types, numbers, alt_number, fills, region, tabix, samples, transformers, buffer_size, chunk_length, log)\u001b[0m\n\u001b[1;32m    308\u001b[0m         \u001b[0mnumbers\u001b[0m\u001b[0;34m=\u001b[0m\u001b[0mnumbers\u001b[0m\u001b[0;34m,\u001b[0m \u001b[0malt_number\u001b[0m\u001b[0;34m=\u001b[0m\u001b[0malt_number\u001b[0m\u001b[0;34m,\u001b[0m \u001b[0mbuffer_size\u001b[0m\u001b[0;34m=\u001b[0m\u001b[0mbuffer_size\u001b[0m\u001b[0;34m,\u001b[0m\u001b[0;34m\u001b[0m\u001b[0;34m\u001b[0m\u001b[0m\n\u001b[1;32m    309\u001b[0m         \u001b[0mchunk_length\u001b[0m\u001b[0;34m=\u001b[0m\u001b[0mchunk_length\u001b[0m\u001b[0;34m,\u001b[0m \u001b[0mfills\u001b[0m\u001b[0;34m=\u001b[0m\u001b[0mfills\u001b[0m\u001b[0;34m,\u001b[0m \u001b[0mregion\u001b[0m\u001b[0;34m=\u001b[0m\u001b[0mregion\u001b[0m\u001b[0;34m,\u001b[0m \u001b[0mtabix\u001b[0m\u001b[0;34m=\u001b[0m\u001b[0mtabix\u001b[0m\u001b[0;34m,\u001b[0m\u001b[0;34m\u001b[0m\u001b[0;34m\u001b[0m\u001b[0m\n\u001b[0;32m--> 310\u001b[0;31m         \u001b[0msamples\u001b[0m\u001b[0;34m=\u001b[0m\u001b[0msamples\u001b[0m\u001b[0;34m,\u001b[0m \u001b[0mtransformers\u001b[0m\u001b[0;34m=\u001b[0m\u001b[0mtransformers\u001b[0m\u001b[0;34m\u001b[0m\u001b[0;34m\u001b[0m\u001b[0m\n\u001b[0m\u001b[1;32m    311\u001b[0m     )\n\u001b[1;32m    312\u001b[0m \u001b[0;34m\u001b[0m\u001b[0m\n",
      "\u001b[0;32m~/opt/anaconda3/lib/python3.7/site-packages/allel/io/vcf_read.py\u001b[0m in \u001b[0;36miter_vcf_chunks\u001b[0;34m(input, fields, exclude_fields, types, numbers, alt_number, fills, region, tabix, samples, transformers, buffer_size, chunk_length)\u001b[0m\n\u001b[1;32m   1142\u001b[0m     \u001b[0;31m# setup input stream\u001b[0m\u001b[0;34m\u001b[0m\u001b[0;34m\u001b[0m\u001b[0;34m\u001b[0m\u001b[0m\n\u001b[1;32m   1143\u001b[0m     stream = _setup_input_stream(input=input, region=region, tabix=tabix,\n\u001b[0;32m-> 1144\u001b[0;31m                                  buffer_size=buffer_size)\n\u001b[0m\u001b[1;32m   1145\u001b[0m \u001b[0;34m\u001b[0m\u001b[0m\n\u001b[1;32m   1146\u001b[0m     \u001b[0;31m# setup iterator\u001b[0m\u001b[0;34m\u001b[0m\u001b[0;34m\u001b[0m\u001b[0;34m\u001b[0m\u001b[0m\n",
      "\u001b[0;32m~/opt/anaconda3/lib/python3.7/site-packages/allel/io/vcf_read.py\u001b[0m in \u001b[0;36m_setup_input_stream\u001b[0;34m(input, region, tabix, buffer_size)\u001b[0m\n\u001b[1;32m   1065\u001b[0m     \u001b[0;32melif\u001b[0m \u001b[0misinstance\u001b[0m\u001b[0;34m(\u001b[0m\u001b[0minput\u001b[0m\u001b[0;34m,\u001b[0m \u001b[0mstr\u001b[0m\u001b[0;34m)\u001b[0m\u001b[0;34m:\u001b[0m\u001b[0;34m\u001b[0m\u001b[0;34m\u001b[0m\u001b[0m\n\u001b[1;32m   1066\u001b[0m         \u001b[0;31m# assume no compression\u001b[0m\u001b[0;34m\u001b[0m\u001b[0;34m\u001b[0m\u001b[0;34m\u001b[0m\u001b[0m\n\u001b[0;32m-> 1067\u001b[0;31m         \u001b[0mfileobj\u001b[0m \u001b[0;34m=\u001b[0m \u001b[0mopen\u001b[0m\u001b[0;34m(\u001b[0m\u001b[0minput\u001b[0m\u001b[0;34m,\u001b[0m \u001b[0mmode\u001b[0m\u001b[0;34m=\u001b[0m\u001b[0;34m'rb'\u001b[0m\u001b[0;34m,\u001b[0m \u001b[0mbuffering\u001b[0m\u001b[0;34m=\u001b[0m\u001b[0;36m0\u001b[0m\u001b[0;34m)\u001b[0m\u001b[0;34m\u001b[0m\u001b[0;34m\u001b[0m\u001b[0m\n\u001b[0m\u001b[1;32m   1068\u001b[0m         \u001b[0mclose\u001b[0m \u001b[0;34m=\u001b[0m \u001b[0;32mTrue\u001b[0m\u001b[0;34m\u001b[0m\u001b[0;34m\u001b[0m\u001b[0m\n\u001b[1;32m   1069\u001b[0m \u001b[0;34m\u001b[0m\u001b[0m\n",
      "\u001b[0;31mFileNotFoundError\u001b[0m: [Errno 2] No such file or directory: '../raw_data/mouse/custom_vcf_fulldata/10000t/deletions/nf_10000t.pindel.BALB_CJ.chr19.100p_sorted.modified.vcf'"
     ]
    }
   ],
   "source": [
    "#10000 threshold deletions\n",
    "#missing files: pindel.BALB_CJ, and platypus.BALB_CJ\n",
    "\n",
    "th=10000    \n",
    "df_current = pd.DataFrame(columns=['strain','length','flag','position','threshold'])\n",
    "df_10000 = pd.DataFrame(columns=['tool','strain','length','flag','position','threshold'])\n",
    "\n",
    "for s in strain:\n",
    "    for t in tools:\n",
    "        file='../raw_data/mouse/custom_vcf_fulldata/'+str(th)+'t/deletions/nf_'+str(th)+'t.'+t+'.'+s+'.chr19.100p_sorted.modified.vcf'\n",
    "        \n",
    "        \n",
    "        callset = allel.read_vcf(file,fields='*')\n",
    "        if callset!=None:\n",
    "            df_current = pd.DataFrame({'tool': t, 'strain': s, 'length': callset['variants/SVLEN'],'flag': callset['variants/FLAG'],'position': callset['variants/POS'],'threshold': th})\n",
    "            df_10000 = pd.concat([df_current, df_10000],ignore_index=True)\n",
    "        else:\n",
    "            print(\"Empty File: \" + file)\n",
    "        \n",
    "df_10000.head()\n"
   ]
  },
  {
   "cell_type": "code",
   "execution_count": 33,
   "metadata": {
    "scrolled": true
   },
   "outputs": [
    {
     "name": "stdout",
     "output_type": "stream",
     "text": [
      "Empty File: ../raw_data/mouse/custom_vcf_fulldata/10000t/non-deletions/nf_10000t.lumpexpress.AKR_J.chr19.100p_sorted.modified.nondel.vcf\n"
     ]
    },
    {
     "data": {
      "text/html": [
       "<div>\n",
       "<style scoped>\n",
       "    .dataframe tbody tr th:only-of-type {\n",
       "        vertical-align: middle;\n",
       "    }\n",
       "\n",
       "    .dataframe tbody tr th {\n",
       "        vertical-align: top;\n",
       "    }\n",
       "\n",
       "    .dataframe thead th {\n",
       "        text-align: right;\n",
       "    }\n",
       "</style>\n",
       "<table border=\"1\" class=\"dataframe\">\n",
       "  <thead>\n",
       "    <tr style=\"text-align: right;\">\n",
       "      <th></th>\n",
       "      <th>tool</th>\n",
       "      <th>strain</th>\n",
       "      <th>length</th>\n",
       "      <th>flag</th>\n",
       "      <th>position</th>\n",
       "      <th>threshold</th>\n",
       "    </tr>\n",
       "  </thead>\n",
       "  <tbody>\n",
       "    <tr>\n",
       "      <td>0</td>\n",
       "      <td>sniffles</td>\n",
       "      <td>LP_J</td>\n",
       "      <td>2164</td>\n",
       "      <td>TN</td>\n",
       "      <td>18924303</td>\n",
       "      <td>10000</td>\n",
       "    </tr>\n",
       "    <tr>\n",
       "      <td>1</td>\n",
       "      <td>sniffles</td>\n",
       "      <td>LP_J</td>\n",
       "      <td>868204</td>\n",
       "      <td>TN</td>\n",
       "      <td>18926808</td>\n",
       "      <td>10000</td>\n",
       "    </tr>\n",
       "    <tr>\n",
       "      <td>2</td>\n",
       "      <td>sniffles</td>\n",
       "      <td>LP_J</td>\n",
       "      <td>37527</td>\n",
       "      <td>TN</td>\n",
       "      <td>20102302</td>\n",
       "      <td>10000</td>\n",
       "    </tr>\n",
       "    <tr>\n",
       "      <td>3</td>\n",
       "      <td>sniffles</td>\n",
       "      <td>LP_J</td>\n",
       "      <td>24683</td>\n",
       "      <td>TN</td>\n",
       "      <td>21449705</td>\n",
       "      <td>10000</td>\n",
       "    </tr>\n",
       "    <tr>\n",
       "      <td>4</td>\n",
       "      <td>sniffles</td>\n",
       "      <td>LP_J</td>\n",
       "      <td>69668</td>\n",
       "      <td>TN</td>\n",
       "      <td>22336470</td>\n",
       "      <td>10000</td>\n",
       "    </tr>\n",
       "  </tbody>\n",
       "</table>\n",
       "</div>"
      ],
      "text/plain": [
       "       tool strain  length flag  position threshold\n",
       "0  sniffles   LP_J    2164   TN  18924303     10000\n",
       "1  sniffles   LP_J  868204   TN  18926808     10000\n",
       "2  sniffles   LP_J   37527   TN  20102302     10000\n",
       "3  sniffles   LP_J   24683   TN  21449705     10000\n",
       "4  sniffles   LP_J   69668   TN  22336470     10000"
      ]
     },
     "execution_count": 33,
     "metadata": {},
     "output_type": "execute_result"
    }
   ],
   "source": [
    "#10000 threshold non-deletions\n",
    "\n",
    "th=10000    \n",
    "df_current = pd.DataFrame(columns=['strain','length','flag','position','threshold'])\n",
    "df_10000_nondel = pd.DataFrame(columns=['tool','strain','length','flag','position','threshold'])\n",
    "\n",
    "for s in strain:\n",
    "    for t in tools:\n",
    "        file='../raw_data/mouse/custom_vcf_fulldata/'+str(th)+'t/non-deletions/nf_'+str(th)+'t.'+t+'.'+s+'.chr19.100p_sorted.modified.nondel.vcf'\n",
    "        \n",
    "        \n",
    "        callset = allel.read_vcf(file,fields='*')\n",
    "        if callset!=None:\n",
    "            df_current = pd.DataFrame({'tool': t, 'strain': s, 'length': callset['variants/SVLEN'],'flag': callset['variants/FLAG'],'position': callset['variants/POS'],'threshold': th})\n",
    "            df_10000_nondel = pd.concat([df_current, df_10000_nondel],ignore_index=True)\n",
    "        else:\n",
    "            print(\"Empty File: \" + file)\n",
    "           \n",
    "        \n",
    "df_10000_nondel.head()\n"
   ]
  },
  {
   "cell_type": "code",
   "execution_count": null,
   "metadata": {},
   "outputs": [],
   "source": []
  }
 ],
 "metadata": {
  "kernelspec": {
   "display_name": "Python 3",
   "language": "python",
   "name": "python3"
  },
  "language_info": {
   "codemirror_mode": {
    "name": "ipython",
    "version": 3
   },
   "file_extension": ".py",
   "mimetype": "text/x-python",
   "name": "python",
   "nbconvert_exporter": "python",
   "pygments_lexer": "ipython3",
   "version": "3.7.4"
  }
 },
 "nbformat": 4,
 "nbformat_minor": 2
}
