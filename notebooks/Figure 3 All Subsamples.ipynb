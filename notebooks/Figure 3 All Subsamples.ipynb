{
 "cells": [
  {
   "cell_type": "code",
   "execution_count": 1,
   "metadata": {},
   "outputs": [],
   "source": [
    "import pandas as pd\n",
    "import allel\n",
    "import numpy as np\n",
    "import matplotlib.pyplot as plt\n",
    "import seaborn as sns"
   ]
  },
  {
   "cell_type": "code",
   "execution_count": null,
   "metadata": {},
   "outputs": [],
   "source": [
    "#BALB_CJ file names need changing \n",
    "strain=['AKR_J','A_J','C3H_HeJ','CBA_J','DBA_2J','LP_J']\n",
    "tool=['breakdancer',\n",
    "#'clever',\n",
    "'delly',\n",
    "'gasv',\n",
    "'gridss',\n",
    "#'indelminer',\n",
    "'lumpexpress',\n",
    "#'mistrvar',\n",
    "#'pindel',\n",
    "#'platypus',\n",
    "'popdel',\n",
    "'smoove',\n",
    "'sniffles']"
   ]
  }
 ],
 "metadata": {
  "kernelspec": {
   "display_name": "Python 3",
   "language": "python",
   "name": "python3"
  },
  "language_info": {
   "codemirror_mode": {
    "name": "ipython",
    "version": 3
   },
   "file_extension": ".py",
   "mimetype": "text/x-python",
   "name": "python",
   "nbconvert_exporter": "python",
   "pygments_lexer": "ipython3",
   "version": "3.7.4"
  }
 },
 "nbformat": 4,
 "nbformat_minor": 2
}
