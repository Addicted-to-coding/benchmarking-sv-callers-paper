{
 "cells": [
  {
   "cell_type": "code",
   "execution_count": null,
   "metadata": {},
   "outputs": [],
   "source": [
    "import pandas as pd\n",
    "import allel"
   ]
  },
  {
   "cell_type": "code",
   "execution_count": null,
   "metadata": {},
   "outputs": [],
   "source": [
    "strain=['AKR_J','A_J','C3H_HeJ','CBA_J','DBA_2J','LP_J']\n",
    "tools=['breakdancer',\n",
    "'clever',\n",
    "'delly',\n",
    "'gasv',\n",
    "'gridss',\n",
    "'indelminer',\n",
    "'lumpexpress',\n",
    "'mistrvar',\n",
    "'pindel',\n",
    "'popdel',\n",
    "'rdxplorer',\n",
    "'smoove',\n",
    "'sniffles',\n",
    "'BioGraph*']"
   ]
  },
  {
   "cell_type": "code",
   "execution_count": null,
   "metadata": {},
   "outputs": [],
   "source": []
  }
 ],
 "metadata": {
  "kernelspec": {
   "display_name": "Python 3",
   "language": "python",
   "name": "python3"
  },
  "language_info": {
   "codemirror_mode": {
    "name": "ipython",
    "version": 3
   },
   "file_extension": ".py",
   "mimetype": "text/x-python",
   "name": "python",
   "nbconvert_exporter": "python",
   "pygments_lexer": "ipython3",
   "version": "3.7.4"
  }
 },
 "nbformat": 4,
 "nbformat_minor": 2
}
